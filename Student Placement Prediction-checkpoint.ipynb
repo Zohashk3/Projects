{
 "cells": [
  {
   "cell_type": "code",
   "execution_count": 1,
   "id": "10873859",
   "metadata": {},
   "outputs": [],
   "source": [
    "import numpy as np\n",
    "import pandas as pd\n",
    "import matplotlib.pyplot as plt\n",
    "import seaborn as sns\n",
    "import warnings\n",
    "warnings.filterwarnings('ignore')"
   ]
  },
  {
   "cell_type": "code",
   "execution_count": 2,
   "id": "25a9a49e",
   "metadata": {},
   "outputs": [
    {
     "data": {
      "text/html": [
       "<div>\n",
       "<style scoped>\n",
       "    .dataframe tbody tr th:only-of-type {\n",
       "        vertical-align: middle;\n",
       "    }\n",
       "\n",
       "    .dataframe tbody tr th {\n",
       "        vertical-align: top;\n",
       "    }\n",
       "\n",
       "    .dataframe thead th {\n",
       "        text-align: right;\n",
       "    }\n",
       "</style>\n",
       "<table border=\"1\" class=\"dataframe\">\n",
       "  <thead>\n",
       "    <tr style=\"text-align: right;\">\n",
       "      <th></th>\n",
       "      <th>Age</th>\n",
       "      <th>Gender</th>\n",
       "      <th>Stream</th>\n",
       "      <th>Internships</th>\n",
       "      <th>CGPA</th>\n",
       "      <th>Hostel</th>\n",
       "      <th>HistoryOfBacklogs</th>\n",
       "      <th>PlacedOrNot</th>\n",
       "    </tr>\n",
       "  </thead>\n",
       "  <tbody>\n",
       "    <tr>\n",
       "      <th>0</th>\n",
       "      <td>22</td>\n",
       "      <td>Male</td>\n",
       "      <td>Electronics And Communication</td>\n",
       "      <td>1</td>\n",
       "      <td>8</td>\n",
       "      <td>1</td>\n",
       "      <td>Yes</td>\n",
       "      <td>Yes</td>\n",
       "    </tr>\n",
       "    <tr>\n",
       "      <th>1</th>\n",
       "      <td>21</td>\n",
       "      <td>Female</td>\n",
       "      <td>Computer Science</td>\n",
       "      <td>0</td>\n",
       "      <td>7</td>\n",
       "      <td>1</td>\n",
       "      <td>Yes</td>\n",
       "      <td>Yes</td>\n",
       "    </tr>\n",
       "    <tr>\n",
       "      <th>2</th>\n",
       "      <td>22</td>\n",
       "      <td>Female</td>\n",
       "      <td>Information Technology</td>\n",
       "      <td>1</td>\n",
       "      <td>6</td>\n",
       "      <td>0</td>\n",
       "      <td>No</td>\n",
       "      <td>Yes</td>\n",
       "    </tr>\n",
       "    <tr>\n",
       "      <th>3</th>\n",
       "      <td>21</td>\n",
       "      <td>Male</td>\n",
       "      <td>Information Technology</td>\n",
       "      <td>0</td>\n",
       "      <td>8</td>\n",
       "      <td>0</td>\n",
       "      <td>Yes</td>\n",
       "      <td>Yes</td>\n",
       "    </tr>\n",
       "    <tr>\n",
       "      <th>4</th>\n",
       "      <td>22</td>\n",
       "      <td>Male</td>\n",
       "      <td>Mechanical</td>\n",
       "      <td>0</td>\n",
       "      <td>8</td>\n",
       "      <td>1</td>\n",
       "      <td>No</td>\n",
       "      <td>Yes</td>\n",
       "    </tr>\n",
       "  </tbody>\n",
       "</table>\n",
       "</div>"
      ],
      "text/plain": [
       "   Age  Gender                         Stream  Internships  CGPA  Hostel  \\\n",
       "0   22    Male  Electronics And Communication            1     8       1   \n",
       "1   21  Female               Computer Science            0     7       1   \n",
       "2   22  Female         Information Technology            1     6       0   \n",
       "3   21    Male         Information Technology            0     8       0   \n",
       "4   22    Male                     Mechanical            0     8       1   \n",
       "\n",
       "  HistoryOfBacklogs PlacedOrNot  \n",
       "0               Yes         Yes  \n",
       "1               Yes         Yes  \n",
       "2                No         Yes  \n",
       "3               Yes         Yes  \n",
       "4                No         Yes  "
      ]
     },
     "execution_count": 2,
     "metadata": {},
     "output_type": "execute_result"
    }
   ],
   "source": [
    "df=pd.read_csv(\"collegePlace.csv\")\n",
    "df.head()"
   ]
  },
  {
   "cell_type": "code",
   "execution_count": 3,
   "id": "6777c82f",
   "metadata": {},
   "outputs": [
    {
     "name": "stdout",
     "output_type": "stream",
     "text": [
      "<class 'pandas.core.frame.DataFrame'>\n",
      "RangeIndex: 2966 entries, 0 to 2965\n",
      "Data columns (total 8 columns):\n",
      " #   Column             Non-Null Count  Dtype \n",
      "---  ------             --------------  ----- \n",
      " 0   Age                2966 non-null   int64 \n",
      " 1   Gender             2966 non-null   object\n",
      " 2   Stream             2966 non-null   object\n",
      " 3   Internships        2966 non-null   int64 \n",
      " 4   CGPA               2966 non-null   int64 \n",
      " 5   Hostel             2966 non-null   int64 \n",
      " 6   HistoryOfBacklogs  2966 non-null   object\n",
      " 7   PlacedOrNot        2966 non-null   object\n",
      "dtypes: int64(4), object(4)\n",
      "memory usage: 185.5+ KB\n"
     ]
    }
   ],
   "source": [
    "df.info()"
   ]
  },
  {
   "cell_type": "raw",
   "id": "37ee52b9",
   "metadata": {},
   "source": [
    "The dataset Student Placement Prediction shows whether the student is getting placed or not.\n",
    "The columns repressnts the feature on which the student is getting placed\n",
    "1)Age- Represents the age of students.\n",
    "2)Gender- shows whether the student is male or females.\n",
    "3)Stream- shows the stream to which the student belongs.\n",
    "4)Internship - this column shows how many internships a student has done.\n",
    "5)CGPA- This column represent the grades of student which ranges from 5 to 9.\n",
    "6)Hostel - This shows whether the student is living in college hostel or not 0- for not living in hostel and 1- for student living in hostel.\n",
    "7) HistoryOfBacklog - Backlog means number of subjects that a student did not pass during exams 0 represents the student has no backlog and 1 shows student has backlog.\n",
    "8)PlacedOrNot- This indicates whether the student is placed or not.\n"
   ]
  },
  {
   "cell_type": "code",
   "execution_count": 4,
   "id": "039ef693",
   "metadata": {},
   "outputs": [
    {
     "data": {
      "text/plain": [
       "Computer Science                 776\n",
       "Information Technology           691\n",
       "Electronics And Communication    424\n",
       "Mechanical                       424\n",
       "Electrical                       334\n",
       "Civil                            317\n",
       "Name: Stream, dtype: int64"
      ]
     },
     "execution_count": 4,
     "metadata": {},
     "output_type": "execute_result"
    }
   ],
   "source": [
    "df['Stream'].value_counts()"
   ]
  },
  {
   "cell_type": "markdown",
   "id": "85e93a32",
   "metadata": {},
   "source": [
    "This datasets has 6 different streams."
   ]
  },
  {
   "cell_type": "code",
   "execution_count": 5,
   "id": "a3b59372",
   "metadata": {},
   "outputs": [
    {
     "data": {
      "text/plain": [
       "7    956\n",
       "8    915\n",
       "6    834\n",
       "9    165\n",
       "5     96\n",
       "Name: CGPA, dtype: int64"
      ]
     },
     "execution_count": 5,
     "metadata": {},
     "output_type": "execute_result"
    }
   ],
   "source": [
    "df['CGPA'].value_counts()"
   ]
  },
  {
   "cell_type": "code",
   "execution_count": 6,
   "id": "9fbf9364",
   "metadata": {},
   "outputs": [
    {
     "data": {
      "text/plain": [
       "0    1331\n",
       "1    1234\n",
       "2     350\n",
       "3      51\n",
       "Name: Internships, dtype: int64"
      ]
     },
     "execution_count": 6,
     "metadata": {},
     "output_type": "execute_result"
    }
   ],
   "source": [
    "df['Internships'].value_counts()"
   ]
  },
  {
   "cell_type": "code",
   "execution_count": 7,
   "id": "9a81f841",
   "metadata": {},
   "outputs": [
    {
     "data": {
      "text/plain": [
       "Yes    1639\n",
       "No     1327\n",
       "Name: PlacedOrNot, dtype: int64"
      ]
     },
     "execution_count": 7,
     "metadata": {},
     "output_type": "execute_result"
    }
   ],
   "source": [
    "df['PlacedOrNot'].value_counts()"
   ]
  },
  {
   "cell_type": "code",
   "execution_count": 8,
   "id": "81330c40",
   "metadata": {},
   "outputs": [
    {
     "data": {
      "text/plain": [
       "No     2396\n",
       "Yes     570\n",
       "Name: HistoryOfBacklogs, dtype: int64"
      ]
     },
     "execution_count": 8,
     "metadata": {},
     "output_type": "execute_result"
    }
   ],
   "source": [
    "df['HistoryOfBacklogs'].value_counts()"
   ]
  },
  {
   "cell_type": "code",
   "execution_count": 9,
   "id": "7d0189a7",
   "metadata": {},
   "outputs": [
    {
     "data": {
      "text/plain": [
       "(2966, 8)"
      ]
     },
     "execution_count": 9,
     "metadata": {},
     "output_type": "execute_result"
    }
   ],
   "source": [
    "df.shape"
   ]
  },
  {
   "cell_type": "code",
   "execution_count": 10,
   "id": "9a421d76",
   "metadata": {},
   "outputs": [
    {
     "data": {
      "text/html": [
       "<div>\n",
       "<style scoped>\n",
       "    .dataframe tbody tr th:only-of-type {\n",
       "        vertical-align: middle;\n",
       "    }\n",
       "\n",
       "    .dataframe tbody tr th {\n",
       "        vertical-align: top;\n",
       "    }\n",
       "\n",
       "    .dataframe thead th {\n",
       "        text-align: right;\n",
       "    }\n",
       "</style>\n",
       "<table border=\"1\" class=\"dataframe\">\n",
       "  <thead>\n",
       "    <tr style=\"text-align: right;\">\n",
       "      <th></th>\n",
       "      <th>Age</th>\n",
       "      <th>Gender</th>\n",
       "      <th>Stream</th>\n",
       "      <th>Internships</th>\n",
       "      <th>CGPA</th>\n",
       "      <th>Hostel</th>\n",
       "      <th>HistoryOfBacklogs</th>\n",
       "    </tr>\n",
       "  </thead>\n",
       "  <tbody>\n",
       "    <tr>\n",
       "      <th>0</th>\n",
       "      <td>22</td>\n",
       "      <td>Male</td>\n",
       "      <td>Electronics And Communication</td>\n",
       "      <td>1</td>\n",
       "      <td>8</td>\n",
       "      <td>1</td>\n",
       "      <td>Yes</td>\n",
       "    </tr>\n",
       "    <tr>\n",
       "      <th>1</th>\n",
       "      <td>21</td>\n",
       "      <td>Female</td>\n",
       "      <td>Computer Science</td>\n",
       "      <td>0</td>\n",
       "      <td>7</td>\n",
       "      <td>1</td>\n",
       "      <td>Yes</td>\n",
       "    </tr>\n",
       "    <tr>\n",
       "      <th>2</th>\n",
       "      <td>22</td>\n",
       "      <td>Female</td>\n",
       "      <td>Information Technology</td>\n",
       "      <td>1</td>\n",
       "      <td>6</td>\n",
       "      <td>0</td>\n",
       "      <td>No</td>\n",
       "    </tr>\n",
       "    <tr>\n",
       "      <th>3</th>\n",
       "      <td>21</td>\n",
       "      <td>Male</td>\n",
       "      <td>Information Technology</td>\n",
       "      <td>0</td>\n",
       "      <td>8</td>\n",
       "      <td>0</td>\n",
       "      <td>Yes</td>\n",
       "    </tr>\n",
       "    <tr>\n",
       "      <th>4</th>\n",
       "      <td>22</td>\n",
       "      <td>Male</td>\n",
       "      <td>Mechanical</td>\n",
       "      <td>0</td>\n",
       "      <td>8</td>\n",
       "      <td>1</td>\n",
       "      <td>No</td>\n",
       "    </tr>\n",
       "  </tbody>\n",
       "</table>\n",
       "</div>"
      ],
      "text/plain": [
       "   Age  Gender                         Stream  Internships  CGPA  Hostel  \\\n",
       "0   22    Male  Electronics And Communication            1     8       1   \n",
       "1   21  Female               Computer Science            0     7       1   \n",
       "2   22  Female         Information Technology            1     6       0   \n",
       "3   21    Male         Information Technology            0     8       0   \n",
       "4   22    Male                     Mechanical            0     8       1   \n",
       "\n",
       "  HistoryOfBacklogs  \n",
       "0               Yes  \n",
       "1               Yes  \n",
       "2                No  \n",
       "3               Yes  \n",
       "4                No  "
      ]
     },
     "execution_count": 10,
     "metadata": {},
     "output_type": "execute_result"
    }
   ],
   "source": [
    "x=df[['Age','Gender','Stream','Internships','CGPA','Hostel','HistoryOfBacklogs']]\n",
    "x.head()"
   ]
  },
  {
   "cell_type": "markdown",
   "id": "feb7d3cf",
   "metadata": {},
   "source": [
    "### ENCODING"
   ]
  },
  {
   "cell_type": "code",
   "execution_count": 11,
   "id": "044e97d5",
   "metadata": {},
   "outputs": [],
   "source": [
    "from sklearn.compose import ColumnTransformer\n",
    "from sklearn.preprocessing import OneHotEncoder"
   ]
  },
  {
   "cell_type": "code",
   "execution_count": 12,
   "id": "14e2afc7",
   "metadata": {},
   "outputs": [],
   "source": [
    "ct=ColumnTransformer(transformers=[('encoder',OneHotEncoder(),['Gender','Stream','HistoryOfBacklogs'])],remainder='passthrough')"
   ]
  },
  {
   "cell_type": "code",
   "execution_count": 13,
   "id": "76b616c9",
   "metadata": {},
   "outputs": [],
   "source": [
    "x=ct.fit_transform(x)"
   ]
  },
  {
   "cell_type": "raw",
   "id": "c1e27805",
   "metadata": {},
   "source": [
    "Here encoding is done for 3 columns.\n",
    "Encoding is a process of changing categorical values into numerical values."
   ]
  },
  {
   "cell_type": "raw",
   "id": "293754ae",
   "metadata": {},
   "source": [
    "Encoding for target column is done that shows 0 for student who is not placed and 1 for student thst are placed."
   ]
  },
  {
   "cell_type": "code",
   "execution_count": 14,
   "id": "f048767c",
   "metadata": {},
   "outputs": [],
   "source": [
    "from sklearn.preprocessing import LabelEncoder"
   ]
  },
  {
   "cell_type": "code",
   "execution_count": 15,
   "id": "451c30a2",
   "metadata": {},
   "outputs": [],
   "source": [
    "le=LabelEncoder()\n",
    "df['PlacedOrNot']= le.fit_transform(df['PlacedOrNot'])"
   ]
  },
  {
   "cell_type": "code",
   "execution_count": 16,
   "id": "2d2d18c3",
   "metadata": {},
   "outputs": [],
   "source": [
    "y=df['PlacedOrNot']"
   ]
  },
  {
   "cell_type": "code",
   "execution_count": 17,
   "id": "855f3c67",
   "metadata": {},
   "outputs": [
    {
     "data": {
      "text/html": [
       "<div>\n",
       "<style scoped>\n",
       "    .dataframe tbody tr th:only-of-type {\n",
       "        vertical-align: middle;\n",
       "    }\n",
       "\n",
       "    .dataframe tbody tr th {\n",
       "        vertical-align: top;\n",
       "    }\n",
       "\n",
       "    .dataframe thead th {\n",
       "        text-align: right;\n",
       "    }\n",
       "</style>\n",
       "<table border=\"1\" class=\"dataframe\">\n",
       "  <thead>\n",
       "    <tr style=\"text-align: right;\">\n",
       "      <th></th>\n",
       "      <th>Age</th>\n",
       "      <th>Gender</th>\n",
       "      <th>Stream</th>\n",
       "      <th>Internships</th>\n",
       "      <th>CGPA</th>\n",
       "      <th>Hostel</th>\n",
       "      <th>HistoryOfBacklogs</th>\n",
       "      <th>PlacedOrNot</th>\n",
       "    </tr>\n",
       "  </thead>\n",
       "  <tbody>\n",
       "    <tr>\n",
       "      <th>0</th>\n",
       "      <td>22</td>\n",
       "      <td>Male</td>\n",
       "      <td>Electronics And Communication</td>\n",
       "      <td>1</td>\n",
       "      <td>8</td>\n",
       "      <td>1</td>\n",
       "      <td>Yes</td>\n",
       "      <td>1</td>\n",
       "    </tr>\n",
       "    <tr>\n",
       "      <th>1</th>\n",
       "      <td>21</td>\n",
       "      <td>Female</td>\n",
       "      <td>Computer Science</td>\n",
       "      <td>0</td>\n",
       "      <td>7</td>\n",
       "      <td>1</td>\n",
       "      <td>Yes</td>\n",
       "      <td>1</td>\n",
       "    </tr>\n",
       "    <tr>\n",
       "      <th>2</th>\n",
       "      <td>22</td>\n",
       "      <td>Female</td>\n",
       "      <td>Information Technology</td>\n",
       "      <td>1</td>\n",
       "      <td>6</td>\n",
       "      <td>0</td>\n",
       "      <td>No</td>\n",
       "      <td>1</td>\n",
       "    </tr>\n",
       "    <tr>\n",
       "      <th>3</th>\n",
       "      <td>21</td>\n",
       "      <td>Male</td>\n",
       "      <td>Information Technology</td>\n",
       "      <td>0</td>\n",
       "      <td>8</td>\n",
       "      <td>0</td>\n",
       "      <td>Yes</td>\n",
       "      <td>1</td>\n",
       "    </tr>\n",
       "    <tr>\n",
       "      <th>4</th>\n",
       "      <td>22</td>\n",
       "      <td>Male</td>\n",
       "      <td>Mechanical</td>\n",
       "      <td>0</td>\n",
       "      <td>8</td>\n",
       "      <td>1</td>\n",
       "      <td>No</td>\n",
       "      <td>1</td>\n",
       "    </tr>\n",
       "  </tbody>\n",
       "</table>\n",
       "</div>"
      ],
      "text/plain": [
       "   Age  Gender                         Stream  Internships  CGPA  Hostel  \\\n",
       "0   22    Male  Electronics And Communication            1     8       1   \n",
       "1   21  Female               Computer Science            0     7       1   \n",
       "2   22  Female         Information Technology            1     6       0   \n",
       "3   21    Male         Information Technology            0     8       0   \n",
       "4   22    Male                     Mechanical            0     8       1   \n",
       "\n",
       "  HistoryOfBacklogs  PlacedOrNot  \n",
       "0               Yes            1  \n",
       "1               Yes            1  \n",
       "2                No            1  \n",
       "3               Yes            1  \n",
       "4                No            1  "
      ]
     },
     "execution_count": 17,
     "metadata": {},
     "output_type": "execute_result"
    }
   ],
   "source": [
    "df.head()"
   ]
  },
  {
   "cell_type": "code",
   "execution_count": 18,
   "id": "5c08ca3d",
   "metadata": {},
   "outputs": [
    {
     "data": {
      "image/png": "[encoded data removed]",
      "text/plain": [
       "<Figure size 1000x800 with 6 Axes>"
      ]
     },
     "metadata": {},
     "output_type": "display_data"
    }
   ],
   "source": [
    "fig = df.hist(figsize=(10,8))\n",
    "plt.tight_layout()\n",
    "plt.show()"
   ]
  },
  {
   "cell_type": "code",
   "execution_count": 19,
   "id": "55b7b868",
   "metadata": {},
   "outputs": [
    {
     "data": {
      "text/plain": [
       "<AxesSubplot:ylabel='PlacedOrNot'>"
      ]
     },
     "execution_count": 19,
     "metadata": {},
     "output_type": "execute_result"
    },
    {
     "data": {
      "image/png": "[encoded data removed]",
      "text/plain": [
       "<Figure size 640x480 with 1 Axes>"
      ]
     },
     "metadata": {},
     "output_type": "display_data"
    }
   ],
   "source": [
    "df['PlacedOrNot'].value_counts().plot(kind='pie',autopct='%.2f')"
   ]
  },
  {
   "cell_type": "code",
   "execution_count": 20,
   "id": "65780e45",
   "metadata": {},
   "outputs": [
    {
     "data": {
      "text/plain": [
       "<AxesSubplot:ylabel='Gender'>"
      ]
     },
     "execution_count": 20,
     "metadata": {},
     "output_type": "execute_result"
    },
    {
     "data": {
      "image/png": "[encoded data removed]",
      "text/plain": [
       "<Figure size 640x480 with 1 Axes>"
      ]
     },
     "metadata": {},
     "output_type": "display_data"
    }
   ],
   "source": [
    "df['Gender'].value_counts().plot(kind='pie',autopct='%.4f')"
   ]
  },
  {
   "cell_type": "code",
   "execution_count": 21,
   "id": "6aefab71",
   "metadata": {},
   "outputs": [
    {
     "data": {
      "text/plain": [
       "1    1639\n",
       "0    1327\n",
       "Name: PlacedOrNot, dtype: int64"
      ]
     },
     "execution_count": 21,
     "metadata": {},
     "output_type": "execute_result"
    }
   ],
   "source": [
    "df['PlacedOrNot'].value_counts()"
   ]
  },
  {
   "cell_type": "markdown",
   "id": "5444dd42",
   "metadata": {},
   "source": [
    "Splitting the data into training and testing sets.\n",
    "The training set contains a known output and model learns on this data in order to generalize to ther data later.\n",
    "we use test datasets in order to test our model's prediction."
   ]
  },
  {
   "cell_type": "markdown",
   "id": "4061899b",
   "metadata": {},
   "source": [
    "->In hypothesis testing, the size of a test is the (maximum) probability of committing a Type I error, that is, \n",
    "of incorrectly rejecting the null hypothesis when it is true.\n",
    "->The random state hyperparameter in the train_test_split() function controls the shuffling process"
   ]
  },
  {
   "cell_type": "code",
   "execution_count": 22,
   "id": "614caefe",
   "metadata": {},
   "outputs": [],
   "source": [
    "from sklearn.model_selection import train_test_split"
   ]
  },
  {
   "cell_type": "code",
   "execution_count": 23,
   "id": "7306d146",
   "metadata": {},
   "outputs": [],
   "source": [
    "xtrain,xtest,ytrain,ytest=train_test_split(x,y,test_size=0.2,random_state=1)"
   ]
  },
  {
   "cell_type": "markdown",
   "id": "c551ce40",
   "metadata": {},
   "source": [
    "Scaling is a technique where we bring values of features at one scale."
   ]
  },
  {
   "cell_type": "code",
   "execution_count": 24,
   "id": "1c72fc22",
   "metadata": {},
   "outputs": [],
   "source": [
    "from sklearn.preprocessing import StandardScaler\n",
    "ss=StandardScaler()\n",
    "xtrain=ss.fit_transform(xtrain)\n",
    "xtest=ss.transform(xtest)"
   ]
  },
  {
   "cell_type": "code",
   "execution_count": null,
   "id": "714246ff",
   "metadata": {},
   "outputs": [],
   "source": []
  },
  {
   "cell_type": "code",
   "execution_count": 25,
   "id": "32d623a0",
   "metadata": {},
   "outputs": [
    {
     "ename": "SyntaxError",
     "evalue": "invalid syntax (3035400318.py, line 8)",
     "output_type": "error",
     "traceback": [
      "\u001b[1;36m  File \u001b[1;32m\"C:\\Users\\ZOHA\\AppData\\Local\\Temp\\ipykernel_10816\\3035400318.py\"\u001b[1;36m, line \u001b[1;32m8\u001b[0m\n\u001b[1;33m    from sklearn.N\u001b[0m\n\u001b[1;37m                  ^\u001b[0m\n\u001b[1;31mSyntaxError\u001b[0m\u001b[1;31m:\u001b[0m invalid syntax\n"
     ]
    }
   ],
   "source": [
    "from sklearn.svm import SVC\n",
    "from sklearn.linear_model import LogisticRegression\n",
    "from sklearn.tree import DecisionTreeClassifier\n",
    "from sklearn.ensemble import RandomForestClassifier\n",
    "from xgboost import XGBClassifier\n",
    "from sklearn.metrics import classification_report,accuracy_score,confusion_matrix\n",
    "from sklearn.ensemble import AdaBoostClassifier\n",
    "from sklearn.N\n",
    "from sklearn.metrics import auc,roc_auc_score,roc_curve,precision_score,recall_score,f1_score"
   ]
  },
  {
   "cell_type": "code",
   "execution_count": null,
   "id": "8e74213f",
   "metadata": {},
   "outputs": [],
   "source": [
    "logreg=LogisticRegression()\n",
    "svm=SVC()\n",
    "dt=DecisionTreeClassifier()\n",
    "xgb=XGBClassifier()\n",
    "rf=RandomForestClassifier()\n",
    "ada=AdaBoostClassifier()"
   ]
  },
  {
   "cell_type": "code",
   "execution_count": null,
   "id": "1dfb8179",
   "metadata": {},
   "outputs": [],
   "source": [
    "def mymodel(model):\n",
    "    model.fit(xtrain,ytrain)\n",
    "    ypred=model.predict(xtest)\n",
    "    print(classification_report(ytest,ypred))\n",
    "    print('Accuracy :',accuracy_score(ytest,ypred))\n",
    "    print('Training Score : ',model.score(xtrain,ytrain))\n",
    "    print('Testing Score : ',model.score(xtest,ytest))\n",
    "    return model"
   ]
  },
  {
   "cell_type": "raw",
   "id": "5c3aed64",
   "metadata": {},
   "source": [
    "liblinear solver-->by default solver.uses a coordinate descent algorithm.coordinate descent is based on minimizing multivariate \n",
    "function by solving univariate optimaization.\n",
    "saga-->it suport L1 regularizatin (non smooth penalty)"
   ]
  },
  {
   "cell_type": "code",
   "execution_count": null,
   "id": "28aff9d8",
   "metadata": {},
   "outputs": [],
   "source": [
    "mymodel(logreg)"
   ]
  },
  {
   "cell_type": "code",
   "execution_count": null,
   "id": "b305c3ba",
   "metadata": {},
   "outputs": [],
   "source": [
    "logr=LogisticRegression(solver='saga')\n",
    "logr.fit(xtrain,ytrain)\n",
    "ypred=logr.predict(xtest)\n",
    "print(classification_report(ytest,ypred))"
   ]
  },
  {
   "cell_type": "raw",
   "id": "d1e601b3",
   "metadata": {},
   "source": [
    "Here as we can see that liblinear solver is giving more accuracy as compared to saga.\n",
    "also the Logistic Regression algorithm is giving an average accuarcy which is not that good.\n",
    "So we change the random state to increase the accuracy score."
   ]
  },
  {
   "cell_type": "code",
   "execution_count": null,
   "id": "380a0960",
   "metadata": {},
   "outputs": [],
   "source": [
    "for i in range(750,1000):\n",
    "    xtrain,xtest,ytrain,ytest=train_test_split(x,y,test_size=0.20,random_state=i)\n",
    "    xtrain=ss.fit_transform(xtrain)\n",
    "    xtest=ss.transform(xtest)\n",
    "    ypred=logreg.predict(xtest)\n",
    "    logreg.fit(xtrain,ytrain)\n",
    "    if(accuracy_score(ytest,ypred))>0.8:\n",
    "        print('random state:',i)\n",
    "        print(accuracy_score(ytest,ypred))\n",
    "        print('\\n\\tTrain',logreg.score(xtrain,ytrain))\n",
    "        print('\\n\\tTest',logreg.score(xtest,ytest))"
   ]
  },
  {
   "cell_type": "raw",
   "id": "855ca3fc",
   "metadata": {},
   "source": [
    "After changing random state the accuracy is still not good also the training score is less than testing score \n",
    "which means the model is an underfit model so we can conclude that Logostic Regression is not suited algorithm for this dataset."
   ]
  },
  {
   "cell_type": "markdown",
   "id": "9a5cf907",
   "metadata": {},
   "source": [
    "## ROC AUC CURVE."
   ]
  },
  {
   "cell_type": "code",
   "execution_count": null,
   "id": "96f22e76",
   "metadata": {},
   "outputs": [],
   "source": [
    "# comparing the values of test and pred\n",
    "print(f'Actual Values: {ytest[:25].values}')\n",
    "print(f'Predicted values: {ypred[:25]}')"
   ]
  },
  {
   "cell_type": "code",
   "execution_count": null,
   "id": "843938b3",
   "metadata": {},
   "outputs": [],
   "source": [
    "# taking the values of each xtes, so that we can check whats the probability \n",
    "# of it getting into 0 and 1.\n",
    "# below gives prob of the dataset getting into 0 and getting into 1 of each data\n",
    "logr.predict_proba(xtest)"
   ]
  },
  {
   "cell_type": "code",
   "execution_count": null,
   "id": "d70b0c95",
   "metadata": {},
   "outputs": [],
   "source": [
    "ypredprob=logr.predict_proba(xtest)[:,1]"
   ]
  },
  {
   "cell_type": "code",
   "execution_count": null,
   "id": "19d4b646",
   "metadata": {},
   "outputs": [],
   "source": [
    "# changing the threshold manually\n",
    "from sklearn.preprocessing import binarize\n",
    "ypred=binarize([ypredprob],threshold=0.30)[0]\n",
    "ypred"
   ]
  },
  {
   "cell_type": "code",
   "execution_count": null,
   "id": "5a08ac1f",
   "metadata": {},
   "outputs": [],
   "source": [
    "# after changing the threshold value and taking the 0th value of each data"
   ]
  },
  {
   "cell_type": "code",
   "execution_count": null,
   "id": "1e6634da",
   "metadata": {},
   "outputs": [],
   "source": [
    "# again comparing the actual and predicted values\n",
    "print(f'Actual Values: {ytest[:25].values}')\n",
    "print(f'Predicted values: {ypred[:25]}')"
   ]
  },
  {
   "cell_type": "code",
   "execution_count": null,
   "id": "96ceed86",
   "metadata": {},
   "outputs": [],
   "source": [
    "from sklearn.metrics import roc_curve\n",
    "fpr,tpr,thres=roc_curve(ytest,ypredprob)\n",
    "thres"
   ]
  },
  {
   "cell_type": "raw",
   "id": "fb9af4a5",
   "metadata": {},
   "source": [
    "What is the AUC ROC curve explain?\n",
    "Image result for what is roc auc curve\n",
    "AUC stands for \"Area under the ROC Curve.\" \n",
    "That is, AUC measures the entire two-dimensional area underneath the entire ROC curve (think integral calculus) from (0,0) to (1,1)."
   ]
  },
  {
   "cell_type": "code",
   "execution_count": null,
   "id": "b173d6d6",
   "metadata": {},
   "outputs": [],
   "source": [
    "plt.title('ROC AUC Curve')\n",
    "plt. plot(fpr,tpr)\n",
    "plt.xlabel('FPR')\n",
    "plt.ylabel('TRP')\n",
    "plt.grid()\n",
    "plt.show()"
   ]
  },
  {
   "cell_type": "markdown",
   "id": "821ee625",
   "metadata": {},
   "source": [
    "## SVM - Support Vector Machine learning algorithm"
   ]
  },
  {
   "cell_type": "raw",
   "id": "d5721164",
   "metadata": {},
   "source": [
    "SVMs are one of the powerful machine learning algorithms for classification, regression and outlier detection purposes. An SVM classifier builds a model that assigns new data points to one of the given categories. \n",
    "Thus, it can be viewed as a non-probabilistic binary linear classifier."
   ]
  },
  {
   "cell_type": "code",
   "execution_count": null,
   "id": "ade1f73f",
   "metadata": {},
   "outputs": [],
   "source": [
    "mymodel(svm)"
   ]
  },
  {
   "cell_type": "raw",
   "id": "f2d98b30",
   "metadata": {},
   "source": [
    "SVM algorithm is giving a good accuracy also there is a slighltly difference is training and testing score.\n",
    "We can conclued that svm is a good algorithm for this dataset."
   ]
  },
  {
   "cell_type": "code",
   "execution_count": null,
   "id": "8817394f",
   "metadata": {},
   "outputs": [],
   "source": [
    "from sklearn.pipeline import Pipeline\n",
    "from sklearn.preprocessing import  StandardScaler"
   ]
  },
  {
   "cell_type": "code",
   "execution_count": null,
   "id": "a377db33",
   "metadata": {},
   "outputs": [],
   "source": [
    "pipe=Pipeline(steps=[(\"scaled\",StandardScaler()),(\"svm\",SVC())])"
   ]
  },
  {
   "cell_type": "code",
   "execution_count": null,
   "id": "951ad695",
   "metadata": {},
   "outputs": [],
   "source": [
    "pipe.fit(xtrain,ytrain)\n",
    "ypred=pipe.predict(xtest)"
   ]
  },
  {
   "cell_type": "code",
   "execution_count": null,
   "id": "d49c8b93",
   "metadata": {},
   "outputs": [],
   "source": [
    "mymodel(pipe)"
   ]
  },
  {
   "cell_type": "raw",
   "id": "bb92ff4b",
   "metadata": {},
   "source": [
    "Even after pipeing the accuracy remains the same."
   ]
  },
  {
   "cell_type": "code",
   "execution_count": null,
   "id": "623e27df",
   "metadata": {},
   "outputs": [],
   "source": [
    "svm=SVC(kernel=\"linear\")\n",
    "mymodel(svm)"
   ]
  },
  {
   "cell_type": "code",
   "execution_count": null,
   "id": "8946ddc6",
   "metadata": {},
   "outputs": [],
   "source": [
    "svm=SVC(kernel=\"poly\")\n",
    "mymodel(svm)"
   ]
  },
  {
   "cell_type": "code",
   "execution_count": null,
   "id": "4f51e84f",
   "metadata": {},
   "outputs": [],
   "source": [
    "svm=SVC(kernel=\"sigmoid\")\n",
    "mymodel(svm)"
   ]
  },
  {
   "cell_type": "raw",
   "id": "43747e53",
   "metadata": {},
   "source": [
    "To get the more better accuracy from svm here the kernels are changed but as we can see that all other kernels \n",
    "is not giving a good accuracy as compared to rbf."
   ]
  },
  {
   "cell_type": "markdown",
   "id": "fd8120d1",
   "metadata": {},
   "source": [
    "### Decision Tree Classifier"
   ]
  },
  {
   "cell_type": "raw",
   "id": "89f53c93",
   "metadata": {},
   "source": [
    " A decision tree is a non-parametric supervised learning algorithm, which is utilized for both classification and regression tasks. \n",
    "It has a hierarchical, tree structure, which consists of a root node, branches, internal nodes and leaf nodes."
   ]
  },
  {
   "cell_type": "code",
   "execution_count": null,
   "id": "197d46ae",
   "metadata": {},
   "outputs": [],
   "source": [
    "mymodel(dt)"
   ]
  },
  {
   "cell_type": "raw",
   "id": "51746953",
   "metadata": {},
   "source": [
    "Decision Tree algorithm is giving a good accuarcy but there is a lot of difference between bias and variance\n",
    "which makes it overfitted model to reduce that we change the max depth ,min samples split and min samples leaf."
   ]
  },
  {
   "cell_type": "code",
   "execution_count": null,
   "id": "190c1dab",
   "metadata": {},
   "outputs": [],
   "source": [
    "for i in range(120,150):\n",
    "    xtrain,xtest,ytrain,ytest=train_test_split(x,y,test_size=0.35,random_state=i)\n",
    "    dt1=DecisionTreeClassifier(max_depth=i)\n",
    "    dt1.fit(xtrain,ytrain)\n",
    "    ypred=dt1.predict(xtest)\n",
    "    acc=accuracy_score(ytest,ypred)\n",
    "    print(f\"max_depth={i} accuracy={acc}\")\n",
    "    print(dt1.score(xtrain,ytrain))\n",
    "    print(dt1.score(xtest,ytest))"
   ]
  },
  {
   "cell_type": "raw",
   "id": "61d74609",
   "metadata": {},
   "source": [
    "Even after changing the max depth the difference between training and testing score still remains high so we change the\n",
    "min sampple split."
   ]
  },
  {
   "cell_type": "code",
   "execution_count": null,
   "id": "aa01a3a3",
   "metadata": {},
   "outputs": [],
   "source": [
    "for i in range(22,150):\n",
    "    dt3=DecisionTreeClassifier(min_samples_split=i)\n",
    "    dt3.fit(xtrain,ytrain)\n",
    "    ypred=dt3.predict(xtest)\n",
    "    acc=accuracy_score(ytest,ypred)\n",
    "    print(f\"min_sample_split={i} accuracy={acc}\")\n",
    "    print('Training Score:',dt3.score(xtrain,ytrain))\n",
    "    print('Testing Score:',dt3.score(xtest,ytest))"
   ]
  },
  {
   "cell_type": "code",
   "execution_count": null,
   "id": "236a4f01",
   "metadata": {},
   "outputs": [],
   "source": [
    "dt4=DecisionTreeClassifier(min_samples_split=22)\n",
    "mymodel(dt4)"
   ]
  },
  {
   "cell_type": "raw",
   "id": "0ae78a36",
   "metadata": {},
   "source": [
    "By changing the min sample split the overfitted is slightly handled."
   ]
  },
  {
   "cell_type": "code",
   "execution_count": null,
   "id": "5721875b",
   "metadata": {},
   "outputs": [],
   "source": [
    "for i in range(1,150):\n",
    "    dt5=DecisionTreeClassifier(min_samples_leaf=i)\n",
    "    dt5.fit(xtrain,ytrain)\n",
    "    ypred=dt5.predict(xtest)\n",
    "    acc=accuracy_score(ytest,ypred)\n",
    "    print(f\"min_sample_leaf={i} accuracy={acc}\")\n",
    "    print('Training Score:',dt5.score(xtrain,ytrain))\n",
    "    print('Testing Score:',dt5.score(xtest,ytest))"
   ]
  },
  {
   "cell_type": "code",
   "execution_count": null,
   "id": "bed88304",
   "metadata": {},
   "outputs": [],
   "source": [
    "dt6=DecisionTreeClassifier(min_samples_split=55)\n",
    "mymodel(dt6)"
   ]
  },
  {
   "cell_type": "markdown",
   "id": "5d2ab466",
   "metadata": {},
   "source": [
    "The hyper tunning in min sample split is giving the best accuarcy as comapred to hyper tunning of max depth and min leaf."
   ]
  },
  {
   "cell_type": "markdown",
   "id": "2371202a",
   "metadata": {},
   "source": [
    "### Random Forest"
   ]
  },
  {
   "cell_type": "raw",
   "id": "a30385a1",
   "metadata": {},
   "source": [
    "The Random forest algorithm is a combination of multiple decision tree and as the data is divided ramdomly it is called\n",
    "a Random Forest."
   ]
  },
  {
   "cell_type": "code",
   "execution_count": null,
   "id": "8873b704",
   "metadata": {},
   "outputs": [],
   "source": [
    "mymodel(rf)"
   ]
  },
  {
   "cell_type": "raw",
   "id": "4f0ef48d",
   "metadata": {},
   "source": [
    "The Random forest is giving 87% accuracy."
   ]
  },
  {
   "cell_type": "markdown",
   "id": "224f95ce",
   "metadata": {},
   "source": [
    "### XGB Classifier"
   ]
  },
  {
   "cell_type": "raw",
   "id": "c174395e",
   "metadata": {},
   "source": [
    "XGBoost is a popular and efficient open-source implementation of the gradient boosted trees algorithm. \n",
    "Gradient boosting is a supervised learning algorithm,\n",
    "which attempts to accurately predict a target variable by combining the estimates of a set of simpler, weaker models."
   ]
  },
  {
   "cell_type": "code",
   "execution_count": null,
   "id": "f1c67548",
   "metadata": {},
   "outputs": [],
   "source": [
    "mymodel(xgb)"
   ]
  },
  {
   "cell_type": "markdown",
   "id": "6e441388",
   "metadata": {},
   "source": [
    "XGB boost is giving 88% accuarcy."
   ]
  },
  {
   "cell_type": "markdown",
   "id": "084d91d9",
   "metadata": {},
   "source": [
    "### Ada Boost Classifier."
   ]
  },
  {
   "cell_type": "raw",
   "id": "86b26d57",
   "metadata": {},
   "source": [
    "An AdaBoost [1] classifier is a meta-estimator that begins by fitting a classifier on the original dataset and \n",
    "then fits additional copies of the classifier on the same dataset but where the weights of incorrectly \n",
    "classified instances are adjusted such that subsequent classifiers focus more on difficult cases."
   ]
  },
  {
   "cell_type": "code",
   "execution_count": null,
   "id": "b7aa0861",
   "metadata": {},
   "outputs": [],
   "source": [
    "mymodel(ada)"
   ]
  },
  {
   "cell_type": "raw",
   "id": "99f909ba",
   "metadata": {},
   "source": [
    "Ada Boost Classifier is giving a good accuracy and the model is a good fit model."
   ]
  },
  {
   "cell_type": "markdown",
   "id": "8b90b65d",
   "metadata": {},
   "source": [
    "### KNN"
   ]
  },
  {
   "cell_type": "raw",
   "id": "77d33791",
   "metadata": {},
   "source": [
    "The k-nearest neighbors algorithm, also known as KNN or k-NN, is a non-parametric, supervised learning classifier, \n",
    "which uses proximity to make classifications or predictions about the grouping of an individual data point."
   ]
  },
  {
   "cell_type": "code",
   "execution_count": null,
   "id": "df028377",
   "metadata": {},
   "outputs": [],
   "source": [
    "from sklearn.neighbors import KNeighborsClassifier"
   ]
  },
  {
   "cell_type": "code",
   "execution_count": null,
   "id": "644a8ebd",
   "metadata": {},
   "outputs": [],
   "source": [
    "knn=KNeighborsClassifier()"
   ]
  },
  {
   "cell_type": "code",
   "execution_count": null,
   "id": "a114deed",
   "metadata": {},
   "outputs": [],
   "source": [
    "mymodel(knn)"
   ]
  },
  {
   "cell_type": "code",
   "execution_count": null,
   "id": "327c96a5",
   "metadata": {},
   "outputs": [],
   "source": [
    "# changing value of k or seeing accuracy by changing vaue of k to get maximum accuracy\n",
    "ac_list=[]\n",
    "for i in range(1,20):\n",
    "    knc=KNeighborsClassifier(n_neighbors=i)  #by default value of k is 5\n",
    "    knc.fit(xtrain,ytrain)\n",
    "    ypred=knc.predict(xtest)\n",
    "    \n",
    "    \n",
    "    ac=accuracy_score(ytest,ypred)\n",
    "    ac_list.append(ac)\n",
    "    print(f'value of k :{i} accuracy :{ac}')\n",
    "    print('Training Score:',knc.score(xtrain,ytrain))\n",
    "    print('Testing Score:',knc.score(xtest,ytest))"
   ]
  },
  {
   "cell_type": "code",
   "execution_count": null,
   "id": "46e7ab6a",
   "metadata": {},
   "outputs": [],
   "source": [
    "knc=KNeighborsClassifier(n_neighbors=16)  #by default value of k is 5\n",
    "knc.fit(xtrain,ytrain)\n",
    "ypred=knc.predict(xtest)\n",
    "print(classification_report(ytest,ypred))\n",
    "print('Training Score:',knc.score(xtrain,ytrain))\n",
    "print('Testing Score:',knc.score(xtest,ytest))"
   ]
  },
  {
   "cell_type": "raw",
   "id": "4051b468",
   "metadata": {},
   "source": [
    "After hyper parameter tunning the value of k the model of kNeighbor has become a good algorithm for this dataset."
   ]
  }
 ],
 "metadata": {
  "kernelspec": {
   "display_name": "Python 3 (ipykernel)",
   "language": "python",
   "name": "python3"
  },
  "language_info": {
   "codemirror_mode": {
    "name": "ipython",
    "version": 3
   },
   "file_extension": ".py",
   "mimetype": "text/x-python",
   "name": "python",
   "nbconvert_exporter": "python",
   "pygments_lexer": "ipython3",
   "version": "3.9.13"
  }
 },
 "nbformat": 4,
 "nbformat_minor": 5
}
